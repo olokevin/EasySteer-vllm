{
 "cells": [
  {
   "cell_type": "code",
   "execution_count": 1,
   "id": "91ed9e20-1fb8-4d4e-9aeb-9b3ef2ad1946",
   "metadata": {},
   "outputs": [
    {
     "name": "stdout",
     "output_type": "stream",
     "text": [
      "INFO 08-26 22:18:52 [__init__.py:244] Automatically detected platform cuda.\n",
      "INFO 08-26 22:19:05 [config.py:841] This model supports multiple tasks: {'classify', 'embed', 'reward', 'generate'}. Defaulting to 'generate'.\n",
      "INFO 08-26 22:19:05 [config.py:1472] Using max model len 131072\n",
      "WARNING 08-26 22:19:05 [arg_utils.py:1577] The model has a long context length (131072). This may causeOOM during the initial memory profiling phase, or result in low performance due to small KV cache size. Consider setting --max-model-len to a smaller value.\n",
      "WARNING 08-26 22:19:06 [cuda.py:102] To see benefits of async output processing, enable CUDA graph. Since, enforce-eager is enabled, async output processor cannot be used\n",
      "INFO 08-26 22:19:06 [llm_engine.py:232] Initializing a V0 LLM engine (v0.1.dev7499+g2a4b294) with config: model='/data/zju-46/shenyl/hf/model/deepseek-ai/DeepSeek-R1-Distill-Qwen-1.5B/', speculative_config=None, tokenizer='/data/zju-46/shenyl/hf/model/deepseek-ai/DeepSeek-R1-Distill-Qwen-1.5B/', skip_tokenizer_init=False, tokenizer_mode=auto, revision=None, override_neuron_config={}, tokenizer_revision=None, trust_remote_code=False, dtype=torch.bfloat16, max_seq_len=131072, download_dir=None, load_format=auto, tensor_parallel_size=1, pipeline_parallel_size=1, disable_custom_all_reduce=False, quantization=None, enforce_eager=True, kv_cache_dtype=auto,  device_config=cuda, decoding_config=DecodingConfig(backend='auto', disable_fallback=False, disable_any_whitespace=False, disable_additional_properties=False, reasoning_backend=''), observability_config=ObservabilityConfig(show_hidden_metrics_for_version=None, otlp_traces_endpoint=None, collect_detailed_traces=None), seed=None, served_model_name=/data/zju-46/shenyl/hf/model/deepseek-ai/DeepSeek-R1-Distill-Qwen-1.5B/, num_scheduler_steps=1, multi_step_stream_outputs=True, enable_prefix_caching=None, chunked_prefill_enabled=False, use_async_output_proc=False, pooler_config=None, compilation_config={\"level\":0,\"debug_dump_path\":\"\",\"cache_dir\":\"\",\"backend\":\"\",\"custom_ops\":[],\"splitting_ops\":[],\"use_inductor\":true,\"compile_sizes\":[],\"inductor_compile_config\":{\"enable_auto_functionalized_v2\":false},\"inductor_passes\":{},\"use_cudagraph\":false,\"cudagraph_num_of_warmups\":0,\"cudagraph_capture_sizes\":[],\"cudagraph_copy_inputs\":false,\"full_cuda_graph\":false,\"max_capture_size\":0,\"local_cache_dir\":null}, use_cached_outputs=False, \n",
      "INFO 08-26 22:19:06 [cuda.py:351] Using Flash Attention backend.\n",
      "INFO 08-26 22:19:07 [parallel_state.py:1076] rank 0 in world size 1 is assigned as DP rank 0, PP rank 0, TP rank 0, EP rank 0\n",
      "INFO 08-26 22:19:07 [model_runner.py:1223] Starting to load model /data/zju-46/shenyl/hf/model/deepseek-ai/DeepSeek-R1-Distill-Qwen-1.5B/...\n"
     ]
    },
    {
     "data": {
      "application/vnd.jupyter.widget-view+json": {
       "model_id": "0e71133e14894118bb13d1d789edf728",
       "version_major": 2,
       "version_minor": 0
      },
      "text/plain": [
       "Loading safetensors checkpoint shards:   0% Completed | 0/1 [00:00<?, ?it/s]\n"
      ]
     },
     "metadata": {},
     "output_type": "display_data"
    },
    {
     "name": "stdout",
     "output_type": "stream",
     "text": [
      "INFO 08-26 22:19:09 [default_loader.py:272] Loading weights took 1.19 seconds\n",
      "INFO 08-26 22:19:10 [model_runner.py:1255] Model loading took 3.3461 GiB and 1.346174 seconds\n",
      "INFO 08-26 22:19:14 [worker.py:295] Memory profiling takes 4.01 seconds\n",
      "INFO 08-26 22:19:14 [worker.py:295] the current vLLM instance can use total_gpu_memory (47.44GiB) x gpu_memory_utilization (0.90) = 42.69GiB\n",
      "INFO 08-26 22:19:14 [worker.py:295] model weights take 3.35GiB; non_torch_memory takes 0.06GiB; PyTorch activation peak memory takes 8.07GiB; the rest of the memory reserved for KV Cache is 31.22GiB.\n",
      "INFO 08-26 22:19:14 [executor_base.py:115] # cuda blocks: 73063, # CPU blocks: 9362\n",
      "INFO 08-26 22:19:14 [executor_base.py:120] Maximum concurrency for 131072 tokens per request: 8.92x\n",
      "INFO 08-26 22:19:17 [llm_engine.py:430] init engine (profile, create kv cache, warmup model) took 7.87 seconds\n"
     ]
    }
   ],
   "source": [
    "# Import necessary libraries\n",
    "import os\n",
    "from vllm import LLM, SamplingParams\n",
    "from vllm.steer_vectors.request import SteerVectorRequest, VectorConfig\n",
    "from transformers import AutoTokenizer\n",
    "\n",
    "# Set environment variables\n",
    "os.environ[\"VLLM_USE_V1\"] = \"0\"\n",
    "os.environ[\"CUDA_VISIBLE_DEVICES\"] = \"0\"\n",
    "\n",
    "# Initialize LLM with steering vector capability\n",
    "llm = LLM(\n",
    "    model=\"/data/zju-46/shenyl/hf/model/deepseek-ai/DeepSeek-R1-Distill-Qwen-1.5B/\",\n",
    "    enable_steer_vector=True,\n",
    "    enforce_eager=True,\n",
    "    tensor_parallel_size=1\n",
    ")"
   ]
  },
  {
   "cell_type": "markdown",
   "id": "3b1830a0-7224-4d6c-975c-42a53ca3daf6",
   "metadata": {},
   "source": [
    "# MATH500"
   ]
  },
  {
   "cell_type": "code",
   "execution_count": 2,
   "id": "37db87a0-202e-40cb-af5d-04a9622bd838",
   "metadata": {},
   "outputs": [
    {
     "name": "stdout",
     "output_type": "stream",
     "text": [
      "Problems: ['Convert the point $(0,3)$ in rectangular coordinates to polar coordinates.  Enter your answer in the form $(r,\\\\theta),$ where $r > 0$ and $0 \\\\le \\\\theta < 2 \\\\pi.$', 'Define\\n\\\\[p = \\\\sum_{k = 1}^\\\\infty \\\\frac{1}{k^2} \\\\quad \\\\text{and} \\\\quad q = \\\\sum_{k = 1}^\\\\infty \\\\frac{1}{k^3}.\\\\]Find a way to write\\n\\\\[\\\\sum_{j = 1}^\\\\infty \\\\sum_{k = 1}^\\\\infty \\\\frac{1}{(j + k)^3}\\\\]in terms of $p$ and $q.$']\n",
      "Answers: ['\\\\left( 3, \\\\frac{\\\\pi}{2} \\\\right)', 'p - q']\n"
     ]
    }
   ],
   "source": [
    "import json\n",
    "file_path = \"/home/xhl/eval/my_eval/data/math500/test.jsonl\"\n",
    "\n",
    "problems = []\n",
    "answers = []\n",
    "\n",
    "with open(file_path, \"r\", encoding=\"utf-8\") as f:\n",
    "    for line in f:\n",
    "        item = json.loads(line)\n",
    "        problems.append(item[\"problem\"])\n",
    "        answers.append(item[\"answer\"])\n",
    "\n",
    "# 看看前两个\n",
    "print(\"Problems:\", problems[:2])\n",
    "print(\"Answers:\", answers[:2])\n",
    "\n",
    "\n",
    "examples = [\"Please reason step by step, and put your final answer within \\\\boxed{}.\\nUser: \" + prompt + \"\\nAssistant: <think>\" for prompt in problems]\n"
   ]
  },
  {
   "cell_type": "code",
   "execution_count": null,
   "id": "92881c5e-c9a1-4a2b-bf95-9a19c328a214",
   "metadata": {},
   "outputs": [],
   "source": [
    "example_answers = llm.generate(\n",
    "    examples,\n",
    "    SamplingParams(\n",
    "        temperature=0,\n",
    "        max_tokens=8192,\n",
    "        skip_special_tokens=False,\n",
    "    ),\n",
    ")"
   ]
  },
  {
   "cell_type": "code",
   "execution_count": 11,
   "id": "cc48226c-12e4-4dda-a311-876f96b91734",
   "metadata": {},
   "outputs": [
    {
     "name": "stdout",
     "output_type": "stream",
     "text": [
      "0.708\n"
     ]
    }
   ],
   "source": [
    "from math_verify import parse, verify, LatexExtractionConfig, ExprExtractionConfig\n",
    "outputs = [output.outputs[0].text for output in example_answers]\n",
    "extraction_target = (ExprExtractionConfig(), LatexExtractionConfig())\n",
    "results = []\n",
    "for i, llm_output in enumerate(outputs):\n",
    "    gold = parse(f\"${answers[i]}$\", extraction_config=extraction_target)\n",
    "    answer = parse(llm_output, extraction_config=extraction_target)\n",
    "    result = verify(gold, answer)\n",
    "    results.append(result)\n",
    "accuracy = sum(results) / len(results)\n",
    "print(accuracy)"
   ]
  },
  {
   "cell_type": "code",
   "execution_count": 13,
   "id": "faa445d4-ae18-4833-9e29-0e7093b73975",
   "metadata": {},
   "outputs": [
    {
     "name": "stdout",
     "output_type": "stream",
     "text": [
      "Length:  3966.38\n"
     ]
    }
   ],
   "source": [
    "tokenizer = AutoTokenizer.from_pretrained(\n",
    "    \"/data/zju-46/shenyl/hf/model/deepseek-ai/DeepSeek-R1-Distill-Qwen-1.5B/\"\n",
    ")\n",
    "length = 0\n",
    "for i in range(len(outputs)):\n",
    "    length += len(tokenizer.tokenize(outputs[i], add_special_tokens=True))\n",
    "print(\"Length: \", length/len(outputs))"
   ]
  },
  {
   "cell_type": "markdown",
   "id": "05091a14-a5ce-4b95-ae33-eb022dd6afbc",
   "metadata": {},
   "source": [
    "# GSM8k"
   ]
  },
  {
   "cell_type": "code",
   "execution_count": 7,
   "id": "898939a1-6924-42f9-9656-fde19f8a97aa",
   "metadata": {},
   "outputs": [
    {
     "name": "stdout",
     "output_type": "stream",
     "text": [
      "Problems: [\"Janet’s ducks lay 16 eggs per day. She eats three for breakfast every morning and bakes muffins for her friends every day with four. She sells the remainder at the farmers' market daily for $2 per fresh duck egg. How much in dollars does she make every day at the farmers' market?\", 'A robe takes 2 bolts of blue fiber and half that much white fiber.  How many bolts in total does it take?']\n",
      "Answers: ['Janet sells 16 - 3 - 4 = <<16-3-4=9>>9 duck eggs a day.\\nShe makes 9 * 2 = $<<9*2=18>>18 every day at the farmer’s market.\\n#### 18', 'It takes 2/2=<<2/2=1>>1 bolt of white fiber\\nSo the total amount of fabric is 2+1=<<2+1=3>>3 bolts of fabric\\n#### 3']\n"
     ]
    }
   ],
   "source": [
    "import json\n",
    "file_path = \"/home/xhl/eval/my_eval/data/gsm8k/test.jsonl\"\n",
    "\n",
    "problems = []\n",
    "answers = []\n",
    "\n",
    "with open(file_path, \"r\", encoding=\"utf-8\") as f:\n",
    "    for line in f:\n",
    "        item = json.loads(line)\n",
    "        problems.append(item[\"question\"])\n",
    "        answers.append(item[\"answer\"])\n",
    "\n",
    "# 看看前两个\n",
    "print(\"Problems:\", problems[:2])\n",
    "print(\"Answers:\", answers[:2])\n",
    "\n",
    "\n",
    "examples = [\"Please reason step by step, and put your final answer within \\\\boxed{}.\\nUser: \" + prompt + \"\\nAssistant: <think>\" for prompt in problems]\n"
   ]
  },
  {
   "cell_type": "code",
   "execution_count": null,
   "id": "cd438da8-750c-495d-9cd6-bb2eee969a38",
   "metadata": {},
   "outputs": [],
   "source": [
    "example_answers = llm.generate(\n",
    "    examples,\n",
    "    SamplingParams(\n",
    "        temperature=0,\n",
    "        max_tokens=8192,\n",
    "        skip_special_tokens=False,\n",
    "    ),\n",
    ")"
   ]
  },
  {
   "cell_type": "code",
   "execution_count": 9,
   "id": "e2a19cc2-a4a5-4967-8c46-7064f6c9bc3b",
   "metadata": {},
   "outputs": [
    {
     "name": "stdout",
     "output_type": "stream",
     "text": [
      "0.796057619408643\n"
     ]
    }
   ],
   "source": [
    "from math_verify import parse, verify, LatexExtractionConfig, ExprExtractionConfig\n",
    "outputs = [output.outputs[0].text for output in example_answers]\n",
    "extraction_target = (ExprExtractionConfig(), LatexExtractionConfig())\n",
    "results = []\n",
    "for i, llm_output in enumerate(outputs):\n",
    "    gold = parse(f\"${answers[i]}$\", extraction_config=extraction_target)\n",
    "    answer = parse(llm_output, extraction_config=extraction_target)\n",
    "    result = verify(gold, answer)\n",
    "    results.append(result)\n",
    "accuracy = sum(results) / len(results)\n",
    "print(accuracy)"
   ]
  },
  {
   "cell_type": "code",
   "execution_count": 10,
   "id": "c0f499aa-2698-4283-b577-afc92e5dae79",
   "metadata": {},
   "outputs": [
    {
     "name": "stdout",
     "output_type": "stream",
     "text": [
      "Length:  2435.4821834723275\n"
     ]
    }
   ],
   "source": [
    "tokenizer = AutoTokenizer.from_pretrained(\n",
    "    \"/data/zju-46/shenyl/hf/model/deepseek-ai/DeepSeek-R1-Distill-Qwen-1.5B/\"\n",
    ")\n",
    "length = 0\n",
    "for i in range(len(outputs)):\n",
    "    length += len(tokenizer.tokenize(outputs[i], add_special_tokens=True))\n",
    "print(\"Length: \", length/len(outputs))"
   ]
  },
  {
   "cell_type": "code",
   "execution_count": null,
   "id": "8e09c7b0-c9e9-4524-9c06-f58fe8f782e7",
   "metadata": {},
   "outputs": [],
   "source": []
  }
 ],
 "metadata": {
  "kernelspec": {
   "display_name": "Python 3 (ipykernel)",
   "language": "python",
   "name": "python3"
  },
  "language_info": {
   "codemirror_mode": {
    "name": "ipython",
    "version": 3
   },
   "file_extension": ".py",
   "mimetype": "text/x-python",
   "name": "python",
   "nbconvert_exporter": "python",
   "pygments_lexer": "ipython3",
   "version": "3.10.18"
  }
 },
 "nbformat": 4,
 "nbformat_minor": 5
}
